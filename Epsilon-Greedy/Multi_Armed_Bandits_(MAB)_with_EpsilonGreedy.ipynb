{
  "nbformat": 4,
  "nbformat_minor": 0,
  "metadata": {
    "colab": {
      "name": "Multi-Armed Bandits (MAB) with EpsilonGreedy.ipynb",
      "provenance": [],
      "collapsed_sections": []
    },
    "kernelspec": {
      "name": "python3",
      "display_name": "Python 3"
    },
    "language_info": {
      "name": "python"
    }
  },
  "cells": [
    {
      "cell_type": "markdown",
      "metadata": {
        "id": "dl50zV2Gqk70"
      },
      "source": [
        "Multi Armed slot machine problem - Multi-Amred Bandits, MAB   \n",
        "\n",
        "Yujin Lee (proqk) - 2021.06.23   \n",
        "참고 책: 알파제로를 분석하며 배우는 인공지능\n",
        "\n",
        "Select the arm of the slot machine to gather information (exploration) + Choose the arm with the highest reward (exploitation)   \n",
        "정보 수집을 위해 슬롯머신의 팔을 선택한다 (탐색) + 보상이 가장 높은 팔을 선택한다 (이용)"
      ]
    },
    {
      "cell_type": "code",
      "metadata": {
        "id": "YCD05Lfipvjf"
      },
      "source": [
        "import numpy as np\n",
        "import random\n",
        "import math\n",
        "import pandas as pd\n",
        "import matplotlib.pyplot as plt\n",
        "%matplotlib inline"
      ],
      "execution_count": 1,
      "outputs": []
    },
    {
      "cell_type": "code",
      "metadata": {
        "id": "7BgpFI6FqFcp"
      },
      "source": [
        "#Make slot arm\n",
        "class SlotArm():\n",
        "  def __init__(self, p):\n",
        "    self.p = p #Probability of getting a coin\n",
        "  \n",
        "  #Get a reward for choosing an arm\n",
        "  def draw(self):\n",
        "    if self.p > random.random():\n",
        "      return 1.0\n",
        "    else:\n",
        "      return 0.0"
      ],
      "execution_count": 2,
      "outputs": []
    },
    {
      "cell_type": "markdown",
      "metadata": {
        "id": "gFp9UgREuoXC"
      },
      "source": [
        "Epsilon-Greedy - Balance exploration and exploitation   \n",
        "\n",
        "1. initialize   \n",
        "Randomly selects an action with E probability (0<=E<=1 integer), and selects an action with the maximum initial reward with 1-E probability.   \n",
        "Returns the arm number.\n",
        "\n",
        "  Epsilon-Greedy - 탐색과 이용의 균형을 잡는 방법   \n",
        "E 확률(0 이상 1이하의 정수)로 랜덤하게 행동을 선택, 1-E 확률로 초기 보상이 최대가 되는 행동을 선택한다.   \n",
        "팔의 번호를 반환한다.\n",
        "\n",
        "2. update   \n",
        "update parameter: (1) +1 number of attempts of the selected arm (2) update the value of the selected arm   \n",
        "\n",
        "  파라미터를 다음 순서에 따라 갱신한다: (1) 선택한 팔의 시행 횟수+1 (2) 선택한 팔의 가치 갱신   \n",
        "  선택한 팔의 가치(평균 보상)는 수식에 따라 갱신한다.   \n",
        "  (이번 시행의 가치:평균 보상) = (시행횟수-1)/(시행횟수) * (이전 시행의 가치 :평균 보상) + 1/시행횟수 * (이번 시행의 보상)"
      ]
    },
    {
      "cell_type": "code",
      "metadata": {
        "id": "8DKnigcYsnIT"
      },
      "source": [
        "#Calculation epsilon-Greedy\n",
        "class EpsilonGreedy():\n",
        "  #init e-greedy\n",
        "  def __init__(self, epsilon):\n",
        "    self.epsilon = epsilon #Probability of exploration\n",
        "\n",
        "  #init n, v (n_arms: number of arms)\n",
        "  def initialize(self, n_arms): \n",
        "    self.n = np.zeros(n_arms) #number of attempts for each arm - list\n",
        "    self.v = np.zeros(n_arms) #value of each arm - list (평균보상)\n",
        "\n",
        "  #Select arm\n",
        "  def select_arm(self):\n",
        "    if self.epsilon > random.random():\n",
        "      return np.random.randint(0, len(self.v)) #select random\n",
        "    else:\n",
        "      return np.argmax(self.v) #select high value arm\n",
        "\n",
        "  #Update parameter\n",
        "  def update(self, chosen_arm, reward, t):\n",
        "    self.n[chosen_arm] += 1 #number of attempts of the selected arm + 1\n",
        "\n",
        "    #update the value of the selected arm\n",
        "    n = self.n[chosen_arm]\n",
        "    v = self.v[chosen_arm]\n",
        "    self.v[chosen_arm] = ((n-1) / float(n)) * v + (1 / float(n)) * reward\n",
        "\n",
        "  #get string info\n",
        "  def label(self):\n",
        "    return 'E-greedy('+str(self.epsilon)+')'"
      ],
      "execution_count": 3,
      "outputs": []
    },
    {
      "cell_type": "code",
      "metadata": {
        "id": "VHhRobq_uRUy"
      },
      "source": [
        "#run\n",
        "def play(algo, arms, num_sims,num_time):\n",
        "  times = np.zeros(num_sims*num_time) #game times\n",
        "  rewards = np.zeros(num_sims*num_time) #rewards\n",
        "\n",
        "  #roop simulation\n",
        "  for time in range(num_time):\n",
        "    algo.initialize(len(arms))\n",
        "\n",
        "    #roop game\n",
        "    for sim in range(num_time):\n",
        "      #calculate index\n",
        "      index = sim * num_time + time\n",
        "\n",
        "      times[index] = time + 1\n",
        "      chosen_arm = algo.select_arm()\n",
        "      reward = arms[chosen_arm].draw()\n",
        "      rewards[index] = reward\n",
        "\n",
        "      #update parameter\n",
        "      algo.update(chosen_arm, reward, time+1)\n",
        "\n",
        "  return [times, rewards]"
      ],
      "execution_count": 4,
      "outputs": []
    },
    {
      "cell_type": "code",
      "metadata": {
        "colab": {
          "base_uri": "https://localhost:8080/",
          "height": 279
        },
        "id": "IbUArTG4h7vX",
        "outputId": "394c3f7f-9047-4042-ff6c-b8a224b9e092"
      },
      "source": [
        "#select arm\n",
        "arms = (SlotArm(0.3), SlotArm(0.5), SlotArm(0.9))\n",
        "\n",
        "#set algorithm\n",
        "algo = EpsilonGreedy(0.1)\n",
        "\n",
        "#run\n",
        "result = play(algo, arms, 1000, 250)\n",
        "\n",
        "#draw graph\n",
        "df = pd.DataFrame({'times': result[0], 'rewards': result[1]})\n",
        "mean = df['rewards'].groupby(df['times']).mean()\n",
        "plt.plot(mean, label = algo.label())\n",
        "\n",
        "plt.xlabel('Step')\n",
        "plt.ylabel('Average Reward')\n",
        "plt.legend(loc = 'best')\n",
        "plt.show()"
      ],
      "execution_count": 5,
      "outputs": [
        {
          "output_type": "display_data",
          "data": {
            "image/png": "[encoded data removed]",
            "text/plain": [
              "<Figure size 432x288 with 1 Axes>"
            ]
          },
          "metadata": {
            "tags": [],
            "needs_background": "light"
          }
        }
      ]
    }
  ]
}